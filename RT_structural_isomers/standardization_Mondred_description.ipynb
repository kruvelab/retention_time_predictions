{
  "cells": [
    {
      "cell_type": "markdown",
      "metadata": {
        "id": "pu58b5hYLH88"
      },
      "source": [
        "# Standardization of SMILES and calculation of Mordred descriptors from mol representation"
      ]
    },
    {
      "cell_type": "code",
      "execution_count": null,
      "metadata": {
        "id": "BFqe6geDKCTb"
      },
      "outputs": [],
      "source": [
        "# Loading necessary libraries\n",
        "import pandas as pd\n",
        "import numpy as np\n",
        "import pathlib\n",
        "\n",
        "import warnings\n",
        "warnings.filterwarnings('ignore', category = RuntimeWarning)"
      ]
    },
    {
      "cell_type": "markdown",
      "metadata": {
        "id": "nl3G9ynnacZO"
      },
      "source": [
        "# Reading the data"
      ]
    },
    {
      "cell_type": "code",
      "execution_count": null,
      "metadata": {
        "id": "3yrxittATtfN"
      },
      "outputs": [],
      "source": [
        "#file_in = ...\n",
        "file_in = 'smiles.csv'\n",
        "sep = ' '\n",
        "# Getting the file extension\n",
        "file_extension = pathlib.Path(file_in).suffix\n",
        "\n",
        "# Reading the data into dataframe based on file extension\n",
        "if file_extension in ['.xlsx', '.xlsm']:\n",
        "  data = pd.read_excel(file_in)\n",
        "else:\n",
        "  data = pd.read_csv(file_in, sep=sep, low_memory=False)"
      ]
    },
    {
      "cell_type": "markdown",
      "metadata": {
        "id": "vlhUsX8OagfF"
      },
      "source": [
        "# Standardization"
      ]
    },
    {
      "cell_type": "code",
      "execution_count": null,
      "metadata": {
        "colab": {
          "base_uri": "https://localhost:8080/"
        },
        "id": "oW3tpvXTuWpd",
        "outputId": "671ae375-7ea9-41a1-adae-874e3fa640ee"
      },
      "outputs": [
        {
          "output_type": "stream",
          "name": "stdout",
          "text": [
            "Collecting rdkit-pypi\n",
            "  Downloading rdkit_pypi-2022.9.5-cp311-cp311-manylinux_2_17_x86_64.manylinux2014_x86_64.whl.metadata (3.9 kB)\n",
            "Requirement already satisfied: numpy in /usr/local/lib/python3.11/dist-packages (from rdkit-pypi) (2.0.2)\n",
            "Requirement already satisfied: Pillow in /usr/local/lib/python3.11/dist-packages (from rdkit-pypi) (11.1.0)\n",
            "Downloading rdkit_pypi-2022.9.5-cp311-cp311-manylinux_2_17_x86_64.manylinux2014_x86_64.whl (29.4 MB)\n",
            "\u001b[2K   \u001b[90m━━━━━━━━━━━━━━━━━━━━━━━━━━━━━━━━━━━━━━━━\u001b[0m \u001b[32m29.4/29.4 MB\u001b[0m \u001b[31m65.1 MB/s\u001b[0m eta \u001b[36m0:00:00\u001b[0m\n",
            "\u001b[?25hInstalling collected packages: rdkit-pypi\n",
            "Successfully installed rdkit-pypi-2022.9.5\n"
          ]
        }
      ],
      "source": [
        "# Installing rdkit\n",
        "! pip install rdkit-pypi"
      ]
    },
    {
      "cell_type": "code",
      "execution_count": null,
      "metadata": {
        "id": "dvP202DUtagp"
      },
      "outputs": [],
      "source": [
        "# Loading necessary libraries\n",
        "from IPython.display import SVG # to use Scalar Vector Graphics (SVG) not bitmaps, for cleaner lines\n",
        "import rdkit\n",
        "from rdkit import Chem, rdBase\n",
        "from rdkit.Chem import AllChem, Draw\n",
        "from rdkit.Chem import Draw # to draw molecules\n",
        "from rdkit.Chem.Draw import IPythonConsole # to draw inline in iPython\n",
        "from rdkit.Chem import rdDepictor  # to generate 2D depictions of molecules\n",
        "from rdkit.Chem.Draw import rdMolDraw2D # to draw 2D molecules using vectors\n",
        "from rdkit.Chem.MolStandardize import rdMolStandardize\n",
        "\n",
        "from rdkit import RDLogger # to suppress rdkit messages\n",
        "RDLogger.DisableLog('rdApp.*')"
      ]
    },
    {
      "cell_type": "code",
      "execution_count": null,
      "metadata": {
        "id": "vp9KmqLwunUX"
      },
      "outputs": [],
      "source": [
        "def standardize_mol(mol, verbose=False):\n",
        "    clean_mol = rdMolStandardize.Cleanup(mol)\n",
        "    if verbose:\n",
        "        print('Remove hydrogens, disconnected metal atoms, normalize the molecule, reionize the molecule:')\n",
        "        draw_mol_with_SVG(clean_mol)\n",
        "\n",
        "    parent_clean_mol = rdMolStandardize.FragmentParent(clean_mol)\n",
        "    if verbose:\n",
        "        print('Select the \"parent\" fragment:')\n",
        "        draw_mol_with_SVG(parent_clean_mol)\n",
        "\n",
        "    uncharger = rdMolStandardize.Uncharger()\n",
        "    uncharged_parent_clean_mol = uncharger.uncharge(parent_clean_mol)\n",
        "    if verbose:\n",
        "        print('Neutralize the molecule:')\n",
        "        draw_mol_with_SVG(uncharged_parent_clean_mol)\n",
        "\n",
        "    taut_enum = rdMolStandardize.TautomerEnumerator()\n",
        "    taut_uncharged_parent_clean_mol = taut_enum.Canonicalize(uncharged_parent_clean_mol)\n",
        "    if verbose:\n",
        "        print('Enumerate tautomers:')\n",
        "        draw_mol_with_SVG(taut_uncharged_parent_clean_mol)\n",
        "\n",
        "    assert taut_uncharged_parent_clean_mol is not None\n",
        "\n",
        "    if verbose: print(Chem.MolToSmiles(taut_uncharged_parent_clean_mol))\n",
        "\n",
        "    return taut_uncharged_parent_clean_mol\n"
      ]
    },
    {
      "cell_type": "code",
      "execution_count": null,
      "metadata": {
        "id": "3ITX7OrojS06"
      },
      "outputs": [],
      "source": [
        "def smiles_to_standardized_mol(smiles, verbose=False):\n",
        "    if verbose: print(smiles)\n",
        "    mol = Chem.MolFromSmiles(smiles)\n",
        "    if mol is None:\n",
        "        if verbose:\n",
        "            print(f\"Invalid SMILES string: {smiles}\")\n",
        "        return None\n",
        "    std_mol = standardize_mol(mol, verbose=verbose)\n",
        "    return (std_mol)\n",
        "\n",
        "def standardize_smiles_from_mol(mol, verbose=False):\n",
        "    if mol is None:\n",
        "        return None\n",
        "    return Chem.MolToSmiles(mol) # Convert standardized Mol object to SMILES\n",
        "\n",
        "def standardize_inchikey_from_mol(mol, verbose=False):\n",
        "    if mol is None:\n",
        "        return None\n",
        "    return Chem.MolToInchiKey(mol)\n",
        "\n",
        "def molecular_formula(mol, verbose=False):\n",
        "    if mol is None:\n",
        "        return None\n",
        "    return rdkit.Chem.rdMolDescriptors.CalcMolFormula(mol)"
      ]
    },
    {
      "cell_type": "code",
      "execution_count": null,
      "metadata": {
        "id": "biD-09Zdjs1w"
      },
      "outputs": [],
      "source": [
        "data['mol'] = data.SMILES.apply(lambda x: smiles_to_standardized_mol(x, verbose=False))"
      ]
    },
    {
      "cell_type": "code",
      "execution_count": null,
      "metadata": {
        "id": "fmUnxJ1Pj7I-"
      },
      "outputs": [],
      "source": [
        "data['standardized_SMILES'] = data.mol.apply(lambda x: standardize_smiles_from_mol(x, verbose=False))"
      ]
    },
    {
      "cell_type": "code",
      "execution_count": null,
      "metadata": {
        "id": "Arl3B0Ktk5Br"
      },
      "outputs": [],
      "source": [
        "data['standardized_inchikey'] = data.mol.apply(lambda x: standardize_inchikey_from_mol(x, verbose=False))"
      ]
    },
    {
      "cell_type": "code",
      "execution_count": null,
      "metadata": {
        "id": "YRQAco5vKAdZ"
      },
      "outputs": [],
      "source": [
        "data['standardized_MF'] = data.mol.apply(lambda x: molecular_formula(x, verbose=False))"
      ]
    },
    {
      "cell_type": "code",
      "execution_count": null,
      "metadata": {
        "id": "Cv_MTXKUJ-2i"
      },
      "outputs": [],
      "source": [
        "file_out = 'standardized_data.tsv'\n",
        "data.to_csv(file_out, sep='\\t', index=False, quoting=False)"
      ]
    },
    {
      "cell_type": "markdown",
      "metadata": {
        "id": "Wa7Vg0PuQ7JC"
      },
      "source": [
        "# Mordred descriptors"
      ]
    },
    {
      "cell_type": "code",
      "execution_count": null,
      "metadata": {
        "colab": {
          "base_uri": "https://localhost:8080/"
        },
        "id": "B7yc6_7XQ6ll",
        "outputId": "df4bc82d-29cb-44ee-e720-e2b47e40955f"
      },
      "outputs": [
        {
          "output_type": "stream",
          "name": "stdout",
          "text": [
            "Requirement already satisfied: mordred in /usr/local/lib/python3.11/dist-packages (1.2.0)\n",
            "Requirement already satisfied: six==1.* in /usr/local/lib/python3.11/dist-packages (from mordred) (1.17.0)\n",
            "Requirement already satisfied: numpy==1.* in /usr/local/lib/python3.11/dist-packages (from mordred) (1.26.4)\n",
            "Requirement already satisfied: networkx==2.* in /usr/local/lib/python3.11/dist-packages (from mordred) (2.8.8)\n"
          ]
        }
      ],
      "source": [
        "# Installing Mordred\n",
        "! pip install mordred\n",
        "# Loading necessary libraries\n",
        "from mordred import Calculator, descriptors"
      ]
    },
    {
      "cell_type": "code",
      "execution_count": null,
      "metadata": {
        "colab": {
          "base_uri": "https://localhost:8080/"
        },
        "id": "0hddSA4zRjN4",
        "outputId": "e64a0d79-db78-43f8-f92f-2a9402ee00a4"
      },
      "outputs": [
        {
          "output_type": "stream",
          "name": "stdout",
          "text": [
            "Number of calculated descriptors: 1826\n"
          ]
        }
      ],
      "source": [
        "calc = Calculator(descriptors, ignore_3D=False) # create descriptor calculator (discard 3D descriptors)\n",
        "print(f'Number of calculated descriptors: {len(calc.descriptors)}')\n",
        "\n",
        "#calc_3D = Calculator(descriptors, ignore_3D=False) # create descriptor calculator with all descriptors\n",
        "#print(f'Number of calculated descriptors: {len(calc_3D.descriptors)}')\n"
      ]
    },
    {
      "cell_type": "markdown",
      "metadata": {
        "id": "BHTUXPwygRgf"
      },
      "source": [
        "#### Calculating the descriptors for all the chemicals in the original dataset"
      ]
    },
    {
      "cell_type": "code",
      "execution_count": null,
      "metadata": {
        "id": "kyuFC1MLhjni"
      },
      "outputs": [],
      "source": [
        "data_cleaned = data.dropna(subset=['mol'])"
      ]
    },
    {
      "cell_type": "code",
      "execution_count": null,
      "metadata": {
        "id": "0xiiT_GihmAL",
        "colab": {
          "base_uri": "https://localhost:8080/"
        },
        "outputId": "5fb8457d-a864-4b21-dee0-f2dfce61e492"
      },
      "outputs": [
        {
          "output_type": "stream",
          "name": "stderr",
          "text": [
            "100%|██████████| 47058/47058 [3:50:24<00:00,  3.40it/s]\n"
          ]
        },
        {
          "output_type": "stream",
          "name": "stdout",
          "text": [
            "Removed rows with indices: Index([83298], dtype='int64')\n"
          ]
        }
      ],
      "source": [
        "calc_mordred = calc.pandas(data_cleaned.mol)\n",
        "calc_mordred = calc_mordred.apply(pd.to_numeric, errors='coerce')"
      ]
    },
    {
      "cell_type": "code",
      "execution_count": null,
      "metadata": {
        "id": "cPsPh4iZw-EK"
      },
      "outputs": [],
      "source": [
        "data_mordred = pd.concat([data_cleaned, calc_mordred], axis=1)"
      ]
    },
    {
      "cell_type": "code",
      "execution_count": null,
      "metadata": {
        "id": "cFap1FUAxDb4"
      },
      "outputs": [],
      "source": [
        "file_out = 'Mordred_descs.tsv'\n",
        "data_mordred.to_csv(file_out, sep='\\t', index=False, quoting=False)"
      ]
    }
  ],
  "metadata": {
    "colab": {
      "provenance": []
    },
    "kernelspec": {
      "display_name": "Python 3",
      "name": "python3"
    },
    "language_info": {
      "name": "python"
    }
  },
  "nbformat": 4,
  "nbformat_minor": 0
}